{
 "cells": [
  {
   "cell_type": "code",
   "execution_count": 2,
   "id": "47e977c2",
   "metadata": {},
   "outputs": [],
   "source": [
    "import pandas as pd\n",
    "data=pd.read_csv(\"C:\\\\2 ND YEAR\\\\PROJECTS\\\\AI FOR DS PROJECT\\\\AI FOR DS PROJECT\\\\DATASET2\\\\ethereum.csv\")"
   ]
  },
  {
   "cell_type": "code",
   "execution_count": 3,
   "id": "d6206100",
   "metadata": {},
   "outputs": [
    {
     "data": {
      "text/html": [
       "<div>\n",
       "<style scoped>\n",
       "    .dataframe tbody tr th:only-of-type {\n",
       "        vertical-align: middle;\n",
       "    }\n",
       "\n",
       "    .dataframe tbody tr th {\n",
       "        vertical-align: top;\n",
       "    }\n",
       "\n",
       "    .dataframe thead th {\n",
       "        text-align: right;\n",
       "    }\n",
       "</style>\n",
       "<table border=\"1\" class=\"dataframe\">\n",
       "  <thead>\n",
       "    <tr style=\"text-align: right;\">\n",
       "      <th></th>\n",
       "      <th>Date</th>\n",
       "      <th>Open</th>\n",
       "      <th>High</th>\n",
       "      <th>Low</th>\n",
       "      <th>Close</th>\n",
       "      <th>Volume</th>\n",
       "      <th>Currency</th>\n",
       "    </tr>\n",
       "  </thead>\n",
       "  <tbody>\n",
       "    <tr>\n",
       "      <th>0</th>\n",
       "      <td>2016-03-10</td>\n",
       "      <td>11.20</td>\n",
       "      <td>11.85</td>\n",
       "      <td>11.07</td>\n",
       "      <td>11.75</td>\n",
       "      <td>4</td>\n",
       "      <td>USD</td>\n",
       "    </tr>\n",
       "    <tr>\n",
       "      <th>1</th>\n",
       "      <td>2016-03-11</td>\n",
       "      <td>11.75</td>\n",
       "      <td>11.95</td>\n",
       "      <td>11.75</td>\n",
       "      <td>11.95</td>\n",
       "      <td>179</td>\n",
       "      <td>USD</td>\n",
       "    </tr>\n",
       "    <tr>\n",
       "      <th>2</th>\n",
       "      <td>2016-03-12</td>\n",
       "      <td>11.95</td>\n",
       "      <td>13.45</td>\n",
       "      <td>11.95</td>\n",
       "      <td>12.92</td>\n",
       "      <td>833</td>\n",
       "      <td>USD</td>\n",
       "    </tr>\n",
       "    <tr>\n",
       "      <th>3</th>\n",
       "      <td>2016-03-13</td>\n",
       "      <td>12.92</td>\n",
       "      <td>15.07</td>\n",
       "      <td>12.92</td>\n",
       "      <td>15.07</td>\n",
       "      <td>1295</td>\n",
       "      <td>USD</td>\n",
       "    </tr>\n",
       "    <tr>\n",
       "      <th>4</th>\n",
       "      <td>2016-03-14</td>\n",
       "      <td>15.07</td>\n",
       "      <td>15.07</td>\n",
       "      <td>11.40</td>\n",
       "      <td>12.50</td>\n",
       "      <td>92183</td>\n",
       "      <td>USD</td>\n",
       "    </tr>\n",
       "    <tr>\n",
       "      <th>...</th>\n",
       "      <td>...</td>\n",
       "      <td>...</td>\n",
       "      <td>...</td>\n",
       "      <td>...</td>\n",
       "      <td>...</td>\n",
       "      <td>...</td>\n",
       "      <td>...</td>\n",
       "    </tr>\n",
       "    <tr>\n",
       "      <th>2118</th>\n",
       "      <td>2021-12-27</td>\n",
       "      <td>4062.02</td>\n",
       "      <td>4125.22</td>\n",
       "      <td>4033.04</td>\n",
       "      <td>4036.24</td>\n",
       "      <td>313319</td>\n",
       "      <td>USD</td>\n",
       "    </tr>\n",
       "    <tr>\n",
       "      <th>2119</th>\n",
       "      <td>2021-12-28</td>\n",
       "      <td>4036.86</td>\n",
       "      <td>4036.86</td>\n",
       "      <td>3760.86</td>\n",
       "      <td>3791.69</td>\n",
       "      <td>527234</td>\n",
       "      <td>USD</td>\n",
       "    </tr>\n",
       "    <tr>\n",
       "      <th>2120</th>\n",
       "      <td>2021-12-29</td>\n",
       "      <td>3792.95</td>\n",
       "      <td>3825.97</td>\n",
       "      <td>3607.20</td>\n",
       "      <td>3627.93</td>\n",
       "      <td>456030</td>\n",
       "      <td>USD</td>\n",
       "    </tr>\n",
       "    <tr>\n",
       "      <th>2121</th>\n",
       "      <td>2021-12-30</td>\n",
       "      <td>3629.33</td>\n",
       "      <td>3767.93</td>\n",
       "      <td>3589.64</td>\n",
       "      <td>3709.57</td>\n",
       "      <td>355717</td>\n",
       "      <td>USD</td>\n",
       "    </tr>\n",
       "    <tr>\n",
       "      <th>2122</th>\n",
       "      <td>2021-12-31</td>\n",
       "      <td>3709.38</td>\n",
       "      <td>3812.01</td>\n",
       "      <td>3623.74</td>\n",
       "      <td>3677.85</td>\n",
       "      <td>405653</td>\n",
       "      <td>USD</td>\n",
       "    </tr>\n",
       "  </tbody>\n",
       "</table>\n",
       "<p>2123 rows × 7 columns</p>\n",
       "</div>"
      ],
      "text/plain": [
       "            Date     Open     High      Low    Close  Volume Currency\n",
       "0     2016-03-10    11.20    11.85    11.07    11.75       4      USD\n",
       "1     2016-03-11    11.75    11.95    11.75    11.95     179      USD\n",
       "2     2016-03-12    11.95    13.45    11.95    12.92     833      USD\n",
       "3     2016-03-13    12.92    15.07    12.92    15.07    1295      USD\n",
       "4     2016-03-14    15.07    15.07    11.40    12.50   92183      USD\n",
       "...          ...      ...      ...      ...      ...     ...      ...\n",
       "2118  2021-12-27  4062.02  4125.22  4033.04  4036.24  313319      USD\n",
       "2119  2021-12-28  4036.86  4036.86  3760.86  3791.69  527234      USD\n",
       "2120  2021-12-29  3792.95  3825.97  3607.20  3627.93  456030      USD\n",
       "2121  2021-12-30  3629.33  3767.93  3589.64  3709.57  355717      USD\n",
       "2122  2021-12-31  3709.38  3812.01  3623.74  3677.85  405653      USD\n",
       "\n",
       "[2123 rows x 7 columns]"
      ]
     },
     "execution_count": 3,
     "metadata": {},
     "output_type": "execute_result"
    }
   ],
   "source": [
    "data"
   ]
  },
  {
   "cell_type": "code",
   "execution_count": 4,
   "id": "e57ff606",
   "metadata": {},
   "outputs": [],
   "source": [
    "data5=data[-5:]"
   ]
  },
  {
   "cell_type": "code",
   "execution_count": 5,
   "id": "be647378",
   "metadata": {},
   "outputs": [
    {
     "data": {
      "text/html": [
       "<div>\n",
       "<style scoped>\n",
       "    .dataframe tbody tr th:only-of-type {\n",
       "        vertical-align: middle;\n",
       "    }\n",
       "\n",
       "    .dataframe tbody tr th {\n",
       "        vertical-align: top;\n",
       "    }\n",
       "\n",
       "    .dataframe thead th {\n",
       "        text-align: right;\n",
       "    }\n",
       "</style>\n",
       "<table border=\"1\" class=\"dataframe\">\n",
       "  <thead>\n",
       "    <tr style=\"text-align: right;\">\n",
       "      <th></th>\n",
       "      <th>Date</th>\n",
       "      <th>Open</th>\n",
       "      <th>High</th>\n",
       "      <th>Low</th>\n",
       "      <th>Close</th>\n",
       "      <th>Volume</th>\n",
       "      <th>Currency</th>\n",
       "    </tr>\n",
       "  </thead>\n",
       "  <tbody>\n",
       "    <tr>\n",
       "      <th>2118</th>\n",
       "      <td>2021-12-27</td>\n",
       "      <td>4062.02</td>\n",
       "      <td>4125.22</td>\n",
       "      <td>4033.04</td>\n",
       "      <td>4036.24</td>\n",
       "      <td>313319</td>\n",
       "      <td>USD</td>\n",
       "    </tr>\n",
       "    <tr>\n",
       "      <th>2119</th>\n",
       "      <td>2021-12-28</td>\n",
       "      <td>4036.86</td>\n",
       "      <td>4036.86</td>\n",
       "      <td>3760.86</td>\n",
       "      <td>3791.69</td>\n",
       "      <td>527234</td>\n",
       "      <td>USD</td>\n",
       "    </tr>\n",
       "    <tr>\n",
       "      <th>2120</th>\n",
       "      <td>2021-12-29</td>\n",
       "      <td>3792.95</td>\n",
       "      <td>3825.97</td>\n",
       "      <td>3607.20</td>\n",
       "      <td>3627.93</td>\n",
       "      <td>456030</td>\n",
       "      <td>USD</td>\n",
       "    </tr>\n",
       "    <tr>\n",
       "      <th>2121</th>\n",
       "      <td>2021-12-30</td>\n",
       "      <td>3629.33</td>\n",
       "      <td>3767.93</td>\n",
       "      <td>3589.64</td>\n",
       "      <td>3709.57</td>\n",
       "      <td>355717</td>\n",
       "      <td>USD</td>\n",
       "    </tr>\n",
       "    <tr>\n",
       "      <th>2122</th>\n",
       "      <td>2021-12-31</td>\n",
       "      <td>3709.38</td>\n",
       "      <td>3812.01</td>\n",
       "      <td>3623.74</td>\n",
       "      <td>3677.85</td>\n",
       "      <td>405653</td>\n",
       "      <td>USD</td>\n",
       "    </tr>\n",
       "  </tbody>\n",
       "</table>\n",
       "</div>"
      ],
      "text/plain": [
       "            Date     Open     High      Low    Close  Volume Currency\n",
       "2118  2021-12-27  4062.02  4125.22  4033.04  4036.24  313319      USD\n",
       "2119  2021-12-28  4036.86  4036.86  3760.86  3791.69  527234      USD\n",
       "2120  2021-12-29  3792.95  3825.97  3607.20  3627.93  456030      USD\n",
       "2121  2021-12-30  3629.33  3767.93  3589.64  3709.57  355717      USD\n",
       "2122  2021-12-31  3709.38  3812.01  3623.74  3677.85  405653      USD"
      ]
     },
     "execution_count": 5,
     "metadata": {},
     "output_type": "execute_result"
    }
   ],
   "source": [
    "data5"
   ]
  },
  {
   "cell_type": "code",
   "execution_count": 6,
   "id": "ce9e3dde",
   "metadata": {},
   "outputs": [
    {
     "data": {
      "text/plain": [
       "0       2016-03-10\n",
       "1       2016-03-11\n",
       "2       2016-03-12\n",
       "3       2016-03-13\n",
       "4       2016-03-14\n",
       "           ...    \n",
       "2118    2021-12-27\n",
       "2119    2021-12-28\n",
       "2120    2021-12-29\n",
       "2121    2021-12-30\n",
       "2122    2021-12-31\n",
       "Name: Date, Length: 2123, dtype: object"
      ]
     },
     "execution_count": 6,
     "metadata": {},
     "output_type": "execute_result"
    }
   ],
   "source": [
    "datadate=data[\"Date\"]\n",
    "datadate"
   ]
  },
  {
   "cell_type": "code",
   "execution_count": 8,
   "id": "984e85df",
   "metadata": {},
   "outputs": [
    {
     "ename": "KeyError",
     "evalue": "('Date', 'Open')",
     "output_type": "error",
     "traceback": [
      "\u001b[1;31m---------------------------------------------------------------------------\u001b[0m",
      "\u001b[1;31mKeyError\u001b[0m                                  Traceback (most recent call last)",
      "\u001b[1;32m~\\anaconda3\\lib\\site-packages\\pandas\\core\\indexes\\base.py\u001b[0m in \u001b[0;36mget_loc\u001b[1;34m(self, key, method, tolerance)\u001b[0m\n\u001b[0;32m   3360\u001b[0m             \u001b[1;32mtry\u001b[0m\u001b[1;33m:\u001b[0m\u001b[1;33m\u001b[0m\u001b[1;33m\u001b[0m\u001b[0m\n\u001b[1;32m-> 3361\u001b[1;33m                 \u001b[1;32mreturn\u001b[0m \u001b[0mself\u001b[0m\u001b[1;33m.\u001b[0m\u001b[0m_engine\u001b[0m\u001b[1;33m.\u001b[0m\u001b[0mget_loc\u001b[0m\u001b[1;33m(\u001b[0m\u001b[0mcasted_key\u001b[0m\u001b[1;33m)\u001b[0m\u001b[1;33m\u001b[0m\u001b[1;33m\u001b[0m\u001b[0m\n\u001b[0m\u001b[0;32m   3362\u001b[0m             \u001b[1;32mexcept\u001b[0m \u001b[0mKeyError\u001b[0m \u001b[1;32mas\u001b[0m \u001b[0merr\u001b[0m\u001b[1;33m:\u001b[0m\u001b[1;33m\u001b[0m\u001b[1;33m\u001b[0m\u001b[0m\n",
      "\u001b[1;32m~\\anaconda3\\lib\\site-packages\\pandas\\_libs\\index.pyx\u001b[0m in \u001b[0;36mpandas._libs.index.IndexEngine.get_loc\u001b[1;34m()\u001b[0m\n",
      "\u001b[1;32m~\\anaconda3\\lib\\site-packages\\pandas\\_libs\\index.pyx\u001b[0m in \u001b[0;36mpandas._libs.index.IndexEngine.get_loc\u001b[1;34m()\u001b[0m\n",
      "\u001b[1;32mpandas\\_libs\\hashtable_class_helper.pxi\u001b[0m in \u001b[0;36mpandas._libs.hashtable.PyObjectHashTable.get_item\u001b[1;34m()\u001b[0m\n",
      "\u001b[1;32mpandas\\_libs\\hashtable_class_helper.pxi\u001b[0m in \u001b[0;36mpandas._libs.hashtable.PyObjectHashTable.get_item\u001b[1;34m()\u001b[0m\n",
      "\u001b[1;31mKeyError\u001b[0m: ('Date', 'Open')",
      "\nThe above exception was the direct cause of the following exception:\n",
      "\u001b[1;31mKeyError\u001b[0m                                  Traceback (most recent call last)",
      "\u001b[1;32m~\\AppData\\Local\\Temp/ipykernel_8436/1356135013.py\u001b[0m in \u001b[0;36m<module>\u001b[1;34m\u001b[0m\n\u001b[1;32m----> 1\u001b[1;33m \u001b[0mdatainfo\u001b[0m\u001b[1;33m=\u001b[0m\u001b[0mdata\u001b[0m\u001b[1;33m[\u001b[0m\u001b[1;34m\"Date\"\u001b[0m\u001b[1;33m,\u001b[0m\u001b[1;34m\"Open\"\u001b[0m\u001b[1;33m]\u001b[0m\u001b[1;33m\u001b[0m\u001b[1;33m\u001b[0m\u001b[0m\n\u001b[0m\u001b[0;32m      2\u001b[0m \u001b[0mdatainfo\u001b[0m\u001b[1;33m\u001b[0m\u001b[1;33m\u001b[0m\u001b[0m\n",
      "\u001b[1;32m~\\anaconda3\\lib\\site-packages\\pandas\\core\\frame.py\u001b[0m in \u001b[0;36m__getitem__\u001b[1;34m(self, key)\u001b[0m\n\u001b[0;32m   3456\u001b[0m             \u001b[1;32mif\u001b[0m \u001b[0mself\u001b[0m\u001b[1;33m.\u001b[0m\u001b[0mcolumns\u001b[0m\u001b[1;33m.\u001b[0m\u001b[0mnlevels\u001b[0m \u001b[1;33m>\u001b[0m \u001b[1;36m1\u001b[0m\u001b[1;33m:\u001b[0m\u001b[1;33m\u001b[0m\u001b[1;33m\u001b[0m\u001b[0m\n\u001b[0;32m   3457\u001b[0m                 \u001b[1;32mreturn\u001b[0m \u001b[0mself\u001b[0m\u001b[1;33m.\u001b[0m\u001b[0m_getitem_multilevel\u001b[0m\u001b[1;33m(\u001b[0m\u001b[0mkey\u001b[0m\u001b[1;33m)\u001b[0m\u001b[1;33m\u001b[0m\u001b[1;33m\u001b[0m\u001b[0m\n\u001b[1;32m-> 3458\u001b[1;33m             \u001b[0mindexer\u001b[0m \u001b[1;33m=\u001b[0m \u001b[0mself\u001b[0m\u001b[1;33m.\u001b[0m\u001b[0mcolumns\u001b[0m\u001b[1;33m.\u001b[0m\u001b[0mget_loc\u001b[0m\u001b[1;33m(\u001b[0m\u001b[0mkey\u001b[0m\u001b[1;33m)\u001b[0m\u001b[1;33m\u001b[0m\u001b[1;33m\u001b[0m\u001b[0m\n\u001b[0m\u001b[0;32m   3459\u001b[0m             \u001b[1;32mif\u001b[0m \u001b[0mis_integer\u001b[0m\u001b[1;33m(\u001b[0m\u001b[0mindexer\u001b[0m\u001b[1;33m)\u001b[0m\u001b[1;33m:\u001b[0m\u001b[1;33m\u001b[0m\u001b[1;33m\u001b[0m\u001b[0m\n\u001b[0;32m   3460\u001b[0m                 \u001b[0mindexer\u001b[0m \u001b[1;33m=\u001b[0m \u001b[1;33m[\u001b[0m\u001b[0mindexer\u001b[0m\u001b[1;33m]\u001b[0m\u001b[1;33m\u001b[0m\u001b[1;33m\u001b[0m\u001b[0m\n",
      "\u001b[1;32m~\\anaconda3\\lib\\site-packages\\pandas\\core\\indexes\\base.py\u001b[0m in \u001b[0;36mget_loc\u001b[1;34m(self, key, method, tolerance)\u001b[0m\n\u001b[0;32m   3361\u001b[0m                 \u001b[1;32mreturn\u001b[0m \u001b[0mself\u001b[0m\u001b[1;33m.\u001b[0m\u001b[0m_engine\u001b[0m\u001b[1;33m.\u001b[0m\u001b[0mget_loc\u001b[0m\u001b[1;33m(\u001b[0m\u001b[0mcasted_key\u001b[0m\u001b[1;33m)\u001b[0m\u001b[1;33m\u001b[0m\u001b[1;33m\u001b[0m\u001b[0m\n\u001b[0;32m   3362\u001b[0m             \u001b[1;32mexcept\u001b[0m \u001b[0mKeyError\u001b[0m \u001b[1;32mas\u001b[0m \u001b[0merr\u001b[0m\u001b[1;33m:\u001b[0m\u001b[1;33m\u001b[0m\u001b[1;33m\u001b[0m\u001b[0m\n\u001b[1;32m-> 3363\u001b[1;33m                 \u001b[1;32mraise\u001b[0m \u001b[0mKeyError\u001b[0m\u001b[1;33m(\u001b[0m\u001b[0mkey\u001b[0m\u001b[1;33m)\u001b[0m \u001b[1;32mfrom\u001b[0m \u001b[0merr\u001b[0m\u001b[1;33m\u001b[0m\u001b[1;33m\u001b[0m\u001b[0m\n\u001b[0m\u001b[0;32m   3364\u001b[0m \u001b[1;33m\u001b[0m\u001b[0m\n\u001b[0;32m   3365\u001b[0m         \u001b[1;32mif\u001b[0m \u001b[0mis_scalar\u001b[0m\u001b[1;33m(\u001b[0m\u001b[0mkey\u001b[0m\u001b[1;33m)\u001b[0m \u001b[1;32mand\u001b[0m \u001b[0misna\u001b[0m\u001b[1;33m(\u001b[0m\u001b[0mkey\u001b[0m\u001b[1;33m)\u001b[0m \u001b[1;32mand\u001b[0m \u001b[1;32mnot\u001b[0m \u001b[0mself\u001b[0m\u001b[1;33m.\u001b[0m\u001b[0mhasnans\u001b[0m\u001b[1;33m:\u001b[0m\u001b[1;33m\u001b[0m\u001b[1;33m\u001b[0m\u001b[0m\n",
      "\u001b[1;31mKeyError\u001b[0m: ('Date', 'Open')"
     ]
    }
   ],
   "source": [
    "datainfo=data[\"Date\",\"Open\"]\n",
    "datainfo"
   ]
  },
  {
   "cell_type": "code",
   "execution_count": 10,
   "id": "0a817f3a",
   "metadata": {},
   "outputs": [
    {
     "data": {
      "text/plain": [
       "0         11.20\n",
       "1         11.75\n",
       "2         11.95\n",
       "3         12.92\n",
       "4         15.07\n",
       "         ...   \n",
       "2118    4062.02\n",
       "2119    4036.86\n",
       "2120    3792.95\n",
       "2121    3629.33\n",
       "2122    3709.38\n",
       "Name: Open, Length: 2123, dtype: float64"
      ]
     },
     "execution_count": 10,
     "metadata": {},
     "output_type": "execute_result"
    }
   ],
   "source": [
    "datainfo=data[\"Open\"]\n",
    "datainfo"
   ]
  },
  {
   "cell_type": "code",
   "execution_count": 18,
   "id": "5d2c92f1",
   "metadata": {},
   "outputs": [
    {
     "ename": "NameError",
     "evalue": "name 'index' is not defined",
     "output_type": "error",
     "traceback": [
      "\u001b[1;31m---------------------------------------------------------------------------\u001b[0m",
      "\u001b[1;31mNameError\u001b[0m                                 Traceback (most recent call last)",
      "\u001b[1;32m~\\AppData\\Local\\Temp/ipykernel_8436/3997065988.py\u001b[0m in \u001b[0;36m<module>\u001b[1;34m\u001b[0m\n\u001b[0;32m      1\u001b[0m \u001b[1;32mfor\u001b[0m \u001b[0mi\u001b[0m \u001b[1;32min\u001b[0m \u001b[0mdatainfo\u001b[0m\u001b[1;33m:\u001b[0m\u001b[1;33m\u001b[0m\u001b[1;33m\u001b[0m\u001b[0m\n\u001b[0;32m      2\u001b[0m     \u001b[1;32mif\u001b[0m\u001b[1;33m(\u001b[0m\u001b[0mi\u001b[0m\u001b[1;33m==\u001b[0m\u001b[1;36m11.20\u001b[0m\u001b[1;33m)\u001b[0m\u001b[1;33m:\u001b[0m\u001b[1;33m\u001b[0m\u001b[1;33m\u001b[0m\u001b[0m\n\u001b[1;32m----> 3\u001b[1;33m         \u001b[0mprint\u001b[0m \u001b[1;33m(\u001b[0m\u001b[0mindex\u001b[0m\u001b[1;33m(\u001b[0m\u001b[0mi\u001b[0m\u001b[1;33m)\u001b[0m\u001b[1;33m)\u001b[0m\u001b[1;33m\u001b[0m\u001b[1;33m\u001b[0m\u001b[0m\n\u001b[0m",
      "\u001b[1;31mNameError\u001b[0m: name 'index' is not defined"
     ]
    }
   ],
   "source": [
    "for i in datainfo:\n",
    "    if(i==11.20):\n",
    "        print (index(i))"
   ]
  },
  {
   "cell_type": "code",
   "execution_count": 22,
   "id": "fcb24a1a",
   "metadata": {},
   "outputs": [
    {
     "ename": "NameError",
     "evalue": "name 'csv' is not defined",
     "output_type": "error",
     "traceback": [
      "\u001b[1;31m---------------------------------------------------------------------------\u001b[0m",
      "\u001b[1;31mNameError\u001b[0m                                 Traceback (most recent call last)",
      "\u001b[1;32m~\\AppData\\Local\\Temp/ipykernel_8436/2935860278.py\u001b[0m in \u001b[0;36m<module>\u001b[1;34m\u001b[0m\n\u001b[1;32m----> 1\u001b[1;33m \u001b[0mALLRows\u001b[0m \u001b[1;33m=\u001b[0m \u001b[0mcsv\u001b[0m\u001b[1;33m.\u001b[0m\u001b[0mreader\u001b[0m\u001b[1;33m(\u001b[0m\u001b[0mdata\u001b[0m\u001b[1;33m,\u001b[0m \u001b[0mdelimiter\u001b[0m\u001b[1;33m=\u001b[0m\u001b[1;34m','\u001b[0m\u001b[1;33m)\u001b[0m\u001b[1;33m\u001b[0m\u001b[1;33m\u001b[0m\u001b[0m\n\u001b[0m\u001b[0;32m      2\u001b[0m \u001b[1;32mfor\u001b[0m \u001b[0mrow\u001b[0m \u001b[1;32min\u001b[0m \u001b[0mALLRows\u001b[0m\u001b[1;33m:\u001b[0m\u001b[1;33m\u001b[0m\u001b[1;33m\u001b[0m\u001b[0m\n\u001b[0;32m      3\u001b[0m     \u001b[0mrows\u001b[0m\u001b[1;33m.\u001b[0m\u001b[0mappend\u001b[0m\u001b[1;33m(\u001b[0m\u001b[0mrow\u001b[0m\u001b[1;33m)\u001b[0m\u001b[1;33m\u001b[0m\u001b[1;33m\u001b[0m\u001b[0m\n\u001b[0;32m      4\u001b[0m     \u001b[0mprint\u001b[0m\u001b[1;33m(\u001b[0m\u001b[0mrow\u001b[0m\u001b[1;33m[\u001b[0m\u001b[1;36m1\u001b[0m\u001b[1;33m]\u001b[0m\u001b[1;33m[\u001b[0m\u001b[1;36m1\u001b[0m\u001b[1;33m]\u001b[0m\u001b[1;33m)\u001b[0m\u001b[1;33m\u001b[0m\u001b[1;33m\u001b[0m\u001b[0m\n",
      "\u001b[1;31mNameError\u001b[0m: name 'csv' is not defined"
     ]
    }
   ],
   "source": [
    "ALLRows = csv.reader(data, delimiter=',')\n",
    "for row in ALLRows:\n",
    "    rows.append(row)\n",
    "    print(row[1][1])"
   ]
  },
  {
   "cell_type": "code",
   "execution_count": 1,
   "id": "13faa41d",
   "metadata": {},
   "outputs": [
    {
     "name": "stdout",
     "output_type": "stream",
     "text": [
      "[[ 1  2  3]\n",
      " [ 4  5  6]\n",
      " [ 7  8  9]\n",
      " [10 11 12]]\n"
     ]
    }
   ],
   "source": [
    "import numpy as np\n",
    "arr = np.array([1, 2, 3, 4, 5, 6, 7, 8, 9, 10, 11, 12])\n",
    "newarr = arr.reshape(4, 3)\n",
    "print(newarr)"
   ]
  },
  {
   "cell_type": "code",
   "execution_count": 2,
   "id": "73ece5bf",
   "metadata": {},
   "outputs": [
    {
     "name": "stdout",
     "output_type": "stream",
     "text": [
      "11\n",
      "55\n",
      "[11 22 33]\n",
      "[55 44 33 22 11]\n"
     ]
    }
   ],
   "source": [
    "data = np.array([11, 22, 33, 44, 55])\n",
    "# index data\n",
    "print(data[0])\n",
    "print(data[4])\n",
    "#slicing\n",
    "print(data[:3])\n",
    "print(data[::-1])"
   ]
  },
  {
   "cell_type": "code",
   "execution_count": 3,
   "id": "9be743d2",
   "metadata": {},
   "outputs": [
    {
     "name": "stdout",
     "output_type": "stream",
     "text": [
      "Input array :  [[[2 2 2]\n",
      "  [2 2 2]]]\n",
      "Shape of input array :  (1, 2, 3)\n",
      "output squeezed array :  [[2 2 2]\n",
      " [2 2 2]]\n",
      "Shape of output array :  (2, 3)\n"
     ]
    }
   ],
   "source": [
    "in_arr = np.array([[[2, 2, 2], [2, 2, 2]]])\n",
    "print (\"Input array : \", in_arr) \n",
    "print(\"Shape of input array : \", in_arr.shape)  \n",
    "out_arr = np.squeeze(in_arr) \n",
    "print (\"output squeezed array : \", out_arr)\n",
    "print(\"Shape of output array : \", out_arr.shape) "
   ]
  },
  {
   "cell_type": "code",
   "execution_count": 4,
   "id": "d634e3b8",
   "metadata": {},
   "outputs": [
    {
     "name": "stdout",
     "output_type": "stream",
     "text": [
      "<class 'numpy.ndarray'>\n",
      "(3,)\n",
      "[1 2 3]\n"
     ]
    }
   ],
   "source": [
    "a = np.array([1, 2, 3])   # Create a rank 1 array\n",
    "print(type(a))            # Prints \"<class 'numpy.ndarray'>\"\n",
    "print(a.shape)    \n",
    "print(a) "
   ]
  },
  {
   "cell_type": "code",
   "execution_count": 10,
   "id": "e237ac89",
   "metadata": {},
   "outputs": [
    {
     "name": "stdout",
     "output_type": "stream",
     "text": [
      "5 2 3\n",
      "[5 2 3]\n"
     ]
    }
   ],
   "source": [
    "print(a[0], a[1], a[2])   # Prints \"1 2 3\"\n",
    "a[0] = 5                  # Change an element of the array\n",
    "print(a)  "
   ]
  },
  {
   "cell_type": "code",
   "execution_count": 8,
   "id": "fd996e7a",
   "metadata": {},
   "outputs": [
    {
     "name": "stdout",
     "output_type": "stream",
     "text": [
      "(2, 3)\n",
      "1 2 4\n"
     ]
    }
   ],
   "source": [
    "b = np.array([[1,2,3],[4,5,6]])    # Create a rank 2 array\n",
    "print(b.shape)                     # Prints \"(2, 3)\"\n",
    "print(b[0, 0], b[0, 1], b[1, 0])"
   ]
  },
  {
   "cell_type": "code",
   "execution_count": 19,
   "id": "6ee18301",
   "metadata": {},
   "outputs": [],
   "source": [
    "import matplotlib.pyplot as plt\n",
    "import pandas as pd\n",
    "import numpy as np\n",
    "data=pd.read_csv(\"https://raw.githubusercontent.com/Aashrut/Machine-Learning/master/Placement_Data.csv\")\n",
    "x = data.iloc[:, :-1].values\n",
    "y = data.iloc[:, -1].values\n"
   ]
  },
  {
   "cell_type": "code",
   "execution_count": 20,
   "id": "84be291b",
   "metadata": {},
   "outputs": [
    {
     "data": {
      "text/plain": [
       "array([[67.0, 91.0, 'Commerce', ..., 55.0, 58.8, 'Placed'],\n",
       "       [79.33, 78.33, 'Science', ..., 86.5, 66.28, 'Placed'],\n",
       "       [65.0, 68.0, 'Arts', ..., 75.0, 57.8, 'Placed'],\n",
       "       ...,\n",
       "       [67.0, 67.0, 'Commerce', ..., 59.0, 69.72, 'Placed'],\n",
       "       [74.0, 66.0, 'Commerce', ..., 70.0, 60.23, 'Placed'],\n",
       "       [62.0, 58.0, 'Science', ..., 89.0, 60.22, 'Not Placed']],\n",
       "      dtype=object)"
      ]
     },
     "execution_count": 20,
     "metadata": {},
     "output_type": "execute_result"
    }
   ],
   "source": [
    "x\n"
   ]
  },
  {
   "cell_type": "code",
   "execution_count": 21,
   "id": "6efec8ed",
   "metadata": {},
   "outputs": [
    {
     "data": {
      "text/plain": [
       "array([270000., 200000., 250000.,     nan, 425000.,     nan,     nan,\n",
       "       252000., 231000.,     nan, 260000., 250000.,     nan, 218000.,\n",
       "           nan, 200000., 300000.,     nan,     nan, 236000., 265000.,\n",
       "       393000., 360000., 300000., 360000.,     nan, 240000., 265000.,\n",
       "       350000.,     nan, 250000.,     nan, 278000., 260000.,     nan,\n",
       "       300000.,     nan, 320000., 240000., 411000., 287000.,     nan,\n",
       "           nan, 300000., 200000.,     nan,     nan, 204000., 250000.,\n",
       "           nan, 200000.,     nan,     nan, 450000., 216000., 220000.,\n",
       "       240000., 360000., 268000., 265000., 260000., 300000., 240000.,\n",
       "           nan, 240000.,     nan, 275000., 275000.,     nan, 275000.,\n",
       "       360000., 240000., 240000., 218000., 336000.,     nan, 230000.,\n",
       "       500000., 270000.,     nan, 240000., 300000.,     nan, 300000.,\n",
       "       300000., 400000., 220000.,     nan, 210000., 210000., 300000.,\n",
       "           nan, 230000.,     nan, 260000., 420000., 300000.,     nan,\n",
       "       220000.,     nan,     nan, 380000., 300000., 240000., 360000.,\n",
       "           nan,     nan, 200000., 300000.,     nan, 250000.,     nan,\n",
       "       250000., 280000., 250000., 216000., 300000., 240000., 276000.,\n",
       "       940000.,     nan, 250000., 236000., 240000., 250000., 350000.,\n",
       "       210000., 250000., 400000., 250000.,     nan, 360000., 300000.,\n",
       "       250000., 250000., 200000.,     nan, 225000., 250000., 220000.,\n",
       "       265000.,     nan, 260000., 300000.,     nan, 400000., 233000.,\n",
       "       300000., 240000.,     nan, 690000., 270000., 240000., 340000.,\n",
       "       250000.,     nan, 255000., 300000.,     nan,     nan, 300000.,\n",
       "           nan, 285000., 500000., 250000.,     nan, 240000.,     nan,\n",
       "           nan,     nan,     nan, 290000., 300000.,     nan, 500000.,\n",
       "           nan, 220000., 650000., 350000.,     nan, 265000.,     nan,\n",
       "           nan, 276000.,     nan, 252000.,     nan, 280000.,     nan,\n",
       "           nan,     nan, 264000., 270000., 300000.,     nan, 275000.,\n",
       "       250000., 260000.,     nan, 265000., 300000.,     nan, 240000.,\n",
       "       260000., 210000., 250000.,     nan, 300000.,     nan, 216000.,\n",
       "       400000., 275000., 295000., 204000.,     nan])"
      ]
     },
     "execution_count": 21,
     "metadata": {},
     "output_type": "execute_result"
    }
   ],
   "source": [
    "y"
   ]
  },
  {
   "cell_type": "code",
   "execution_count": 23,
   "id": "1b520053",
   "metadata": {},
   "outputs": [
    {
     "data": {
      "text/plain": [
       "array([[270000.        ],\n",
       "       [200000.        ],\n",
       "       [250000.        ],\n",
       "       [288655.40540541],\n",
       "       [425000.        ],\n",
       "       [288655.40540541],\n",
       "       [288655.40540541],\n",
       "       [252000.        ],\n",
       "       [231000.        ],\n",
       "       [288655.40540541],\n",
       "       [260000.        ],\n",
       "       [250000.        ],\n",
       "       [288655.40540541],\n",
       "       [218000.        ],\n",
       "       [288655.40540541],\n",
       "       [200000.        ],\n",
       "       [300000.        ],\n",
       "       [288655.40540541],\n",
       "       [288655.40540541],\n",
       "       [236000.        ],\n",
       "       [265000.        ],\n",
       "       [393000.        ],\n",
       "       [360000.        ],\n",
       "       [300000.        ],\n",
       "       [360000.        ],\n",
       "       [288655.40540541],\n",
       "       [240000.        ],\n",
       "       [265000.        ],\n",
       "       [350000.        ],\n",
       "       [288655.40540541],\n",
       "       [250000.        ],\n",
       "       [288655.40540541],\n",
       "       [278000.        ],\n",
       "       [260000.        ],\n",
       "       [288655.40540541],\n",
       "       [300000.        ],\n",
       "       [288655.40540541],\n",
       "       [320000.        ],\n",
       "       [240000.        ],\n",
       "       [411000.        ],\n",
       "       [287000.        ],\n",
       "       [288655.40540541],\n",
       "       [288655.40540541],\n",
       "       [300000.        ],\n",
       "       [200000.        ],\n",
       "       [288655.40540541],\n",
       "       [288655.40540541],\n",
       "       [204000.        ],\n",
       "       [250000.        ],\n",
       "       [288655.40540541],\n",
       "       [200000.        ],\n",
       "       [288655.40540541],\n",
       "       [288655.40540541],\n",
       "       [450000.        ],\n",
       "       [216000.        ],\n",
       "       [220000.        ],\n",
       "       [240000.        ],\n",
       "       [360000.        ],\n",
       "       [268000.        ],\n",
       "       [265000.        ],\n",
       "       [260000.        ],\n",
       "       [300000.        ],\n",
       "       [240000.        ],\n",
       "       [288655.40540541],\n",
       "       [240000.        ],\n",
       "       [288655.40540541],\n",
       "       [275000.        ],\n",
       "       [275000.        ],\n",
       "       [288655.40540541],\n",
       "       [275000.        ],\n",
       "       [360000.        ],\n",
       "       [240000.        ],\n",
       "       [240000.        ],\n",
       "       [218000.        ],\n",
       "       [336000.        ],\n",
       "       [288655.40540541],\n",
       "       [230000.        ],\n",
       "       [500000.        ],\n",
       "       [270000.        ],\n",
       "       [288655.40540541],\n",
       "       [240000.        ],\n",
       "       [300000.        ],\n",
       "       [288655.40540541],\n",
       "       [300000.        ],\n",
       "       [300000.        ],\n",
       "       [400000.        ],\n",
       "       [220000.        ],\n",
       "       [288655.40540541],\n",
       "       [210000.        ],\n",
       "       [210000.        ],\n",
       "       [300000.        ],\n",
       "       [288655.40540541],\n",
       "       [230000.        ],\n",
       "       [288655.40540541],\n",
       "       [260000.        ],\n",
       "       [420000.        ],\n",
       "       [300000.        ],\n",
       "       [288655.40540541],\n",
       "       [220000.        ],\n",
       "       [288655.40540541],\n",
       "       [288655.40540541],\n",
       "       [380000.        ],\n",
       "       [300000.        ],\n",
       "       [240000.        ],\n",
       "       [360000.        ],\n",
       "       [288655.40540541],\n",
       "       [288655.40540541],\n",
       "       [200000.        ],\n",
       "       [300000.        ],\n",
       "       [288655.40540541],\n",
       "       [250000.        ],\n",
       "       [288655.40540541],\n",
       "       [250000.        ],\n",
       "       [280000.        ],\n",
       "       [250000.        ],\n",
       "       [216000.        ],\n",
       "       [300000.        ],\n",
       "       [240000.        ],\n",
       "       [276000.        ],\n",
       "       [940000.        ],\n",
       "       [288655.40540541],\n",
       "       [250000.        ],\n",
       "       [236000.        ],\n",
       "       [240000.        ],\n",
       "       [250000.        ],\n",
       "       [350000.        ],\n",
       "       [210000.        ],\n",
       "       [250000.        ],\n",
       "       [400000.        ],\n",
       "       [250000.        ],\n",
       "       [288655.40540541],\n",
       "       [360000.        ],\n",
       "       [300000.        ],\n",
       "       [250000.        ],\n",
       "       [250000.        ],\n",
       "       [200000.        ],\n",
       "       [288655.40540541],\n",
       "       [225000.        ],\n",
       "       [250000.        ],\n",
       "       [220000.        ],\n",
       "       [265000.        ],\n",
       "       [288655.40540541],\n",
       "       [260000.        ],\n",
       "       [300000.        ],\n",
       "       [288655.40540541],\n",
       "       [400000.        ],\n",
       "       [233000.        ],\n",
       "       [300000.        ],\n",
       "       [240000.        ],\n",
       "       [288655.40540541],\n",
       "       [690000.        ],\n",
       "       [270000.        ],\n",
       "       [240000.        ],\n",
       "       [340000.        ],\n",
       "       [250000.        ],\n",
       "       [288655.40540541],\n",
       "       [255000.        ],\n",
       "       [300000.        ],\n",
       "       [288655.40540541],\n",
       "       [288655.40540541],\n",
       "       [300000.        ],\n",
       "       [288655.40540541],\n",
       "       [285000.        ],\n",
       "       [500000.        ],\n",
       "       [250000.        ],\n",
       "       [288655.40540541],\n",
       "       [240000.        ],\n",
       "       [288655.40540541],\n",
       "       [288655.40540541],\n",
       "       [288655.40540541],\n",
       "       [288655.40540541],\n",
       "       [290000.        ],\n",
       "       [300000.        ],\n",
       "       [288655.40540541],\n",
       "       [500000.        ],\n",
       "       [288655.40540541],\n",
       "       [220000.        ],\n",
       "       [650000.        ],\n",
       "       [350000.        ],\n",
       "       [288655.40540541],\n",
       "       [265000.        ],\n",
       "       [288655.40540541],\n",
       "       [288655.40540541],\n",
       "       [276000.        ],\n",
       "       [288655.40540541],\n",
       "       [252000.        ],\n",
       "       [288655.40540541],\n",
       "       [280000.        ],\n",
       "       [288655.40540541],\n",
       "       [288655.40540541],\n",
       "       [288655.40540541],\n",
       "       [264000.        ],\n",
       "       [270000.        ],\n",
       "       [300000.        ],\n",
       "       [288655.40540541],\n",
       "       [275000.        ],\n",
       "       [250000.        ],\n",
       "       [260000.        ],\n",
       "       [288655.40540541],\n",
       "       [265000.        ],\n",
       "       [300000.        ],\n",
       "       [288655.40540541],\n",
       "       [240000.        ],\n",
       "       [260000.        ],\n",
       "       [210000.        ],\n",
       "       [250000.        ],\n",
       "       [288655.40540541],\n",
       "       [300000.        ],\n",
       "       [288655.40540541],\n",
       "       [216000.        ],\n",
       "       [400000.        ],\n",
       "       [275000.        ],\n",
       "       [295000.        ],\n",
       "       [204000.        ],\n",
       "       [288655.40540541]])"
      ]
     },
     "execution_count": 23,
     "metadata": {},
     "output_type": "execute_result"
    }
   ],
   "source": [
    "from sklearn.impute import SimpleImputer\n",
    "imputer_y = SimpleImputer(missing_values=np.nan, strategy='mean')\n",
    "imputer_y.fit(y.reshape(-1,1))\n",
    "y = imputer_y.transform(y.reshape(-1,1))\n",
    "y"
   ]
  },
  {
   "cell_type": "code",
   "execution_count": 24,
   "id": "6767684e",
   "metadata": {},
   "outputs": [],
   "source": [
    "from sklearn.compose import ColumnTransformer\n",
    "from sklearn.preprocessing import OneHotEncoder\n",
    "ct = ColumnTransformer(transformers=[('encoder', OneHotEncoder(), [2])], remainder='passthrough')\n",
    "x = np.array(ct.fit_transform(x))"
   ]
  },
  {
   "cell_type": "code",
   "execution_count": 25,
   "id": "86311550",
   "metadata": {},
   "outputs": [
    {
     "data": {
      "text/plain": [
       "array([[0.0, 1.0, 0.0, ..., 55.0, 58.8, 'Placed'],\n",
       "       [0.0, 0.0, 1.0, ..., 86.5, 66.28, 'Placed'],\n",
       "       [1.0, 0.0, 0.0, ..., 75.0, 57.8, 'Placed'],\n",
       "       ...,\n",
       "       [0.0, 1.0, 0.0, ..., 59.0, 69.72, 'Placed'],\n",
       "       [0.0, 1.0, 0.0, ..., 70.0, 60.23, 'Placed'],\n",
       "       [0.0, 0.0, 1.0, ..., 89.0, 60.22, 'Not Placed']], dtype=object)"
      ]
     },
     "execution_count": 25,
     "metadata": {},
     "output_type": "execute_result"
    }
   ],
   "source": [
    "x"
   ]
  },
  {
   "cell_type": "code",
   "execution_count": 26,
   "id": "179e78fc",
   "metadata": {},
   "outputs": [
    {
     "data": {
      "text/plain": [
       "array([[0.0, 1.0, 0.0, ..., 55.0, 58.8, 'Placed'],\n",
       "       [0.0, 0.0, 1.0, ..., 86.5, 66.28, 'Placed'],\n",
       "       [1.0, 0.0, 0.0, ..., 75.0, 57.8, 'Placed'],\n",
       "       ...,\n",
       "       [0.0, 1.0, 0.0, ..., 59.0, 69.72, 'Placed'],\n",
       "       [0.0, 1.0, 0.0, ..., 70.0, 60.23, 'Placed'],\n",
       "       [0.0, 0.0, 1.0, ..., 89.0, 60.22, 'Not Placed']], dtype=object)"
      ]
     },
     "execution_count": 26,
     "metadata": {},
     "output_type": "execute_result"
    }
   ],
   "source": [
    "from sklearn.preprocessing import LabelEncoder\n",
    "le = LabelEncoder()\n",
    "x[:, 6] = le.fit_transform(x[:, 6])\n",
    "x"
   ]
  },
  {
   "cell_type": "code",
   "execution_count": 28,
   "id": "40f6e8b5",
   "metadata": {},
   "outputs": [],
   "source": [
    "from sklearn.model_selection import train_test_split\n",
    "x_train, x_test, y_train, y_test = train_test_split(x, y, test_size=0.2, random_state=42)"
   ]
  },
  {
   "cell_type": "code",
   "execution_count": 29,
   "id": "c5ae249a",
   "metadata": {},
   "outputs": [
    {
     "data": {
      "text/plain": [
       "array([[0.0, 1.0, 0.0, ..., 72.0, 55.41, 'Not Placed'],\n",
       "       [0.0, 0.0, 1.0, ..., 55.0, 62.0, 'Placed'],\n",
       "       [0.0, 1.0, 0.0, ..., 95.46, 62.16, 'Placed'],\n",
       "       ...,\n",
       "       [0.0, 0.0, 1.0, ..., 72.0, 59.47, 'Placed'],\n",
       "       [0.0, 0.0, 1.0, ..., 75.5, 72.14, 'Not Placed'],\n",
       "       [0.0, 1.0, 0.0, ..., 57.5, 61.31, 'Placed']], dtype=object)"
      ]
     },
     "execution_count": 29,
     "metadata": {},
     "output_type": "execute_result"
    }
   ],
   "source": [
    "x_train\n"
   ]
  },
  {
   "cell_type": "code",
   "execution_count": 30,
   "id": "93fac764",
   "metadata": {},
   "outputs": [
    {
     "data": {
      "text/plain": [
       "array([[0.0, 1.0, 0.0, 69.0, 60.0, 65.0, 0, 87.55, 52.81, 'Placed'],\n",
       "       [0.0, 1.0, 0.0, 67.0, 67.0, 73.0, 1, 59.0, 69.72, 'Placed'],\n",
       "       [0.0, 0.0, 1.0, 82.0, 64.0, 73.0, 1, 96.0, 71.77, 'Placed'],\n",
       "       [0.0, 1.0, 0.0, 59.0, 60.0, 56.0, 0, 55.0, 57.9, 'Placed'],\n",
       "       [0.0, 1.0, 0.0, 65.0, 75.0, 69.0, 1, 72.0, 64.66, 'Placed'],\n",
       "       [0.0, 0.0, 1.0, 51.0, 54.0, 61.0, 0, 60.0, 60.64, 'Not Placed'],\n",
       "       [0.0, 1.0, 0.0, 48.0, 51.0, 58.0, 1, 60.0, 58.79, 'Not Placed'],\n",
       "       [0.0, 1.0, 0.0, 64.6, 83.83, 71.72, 0, 86.0, 59.75, 'Placed'],\n",
       "       [0.0, 1.0, 0.0, 74.0, 73.0, 73.0, 1, 80.0, 67.69, 'Placed'],\n",
       "       [0.0, 1.0, 0.0, 77.0, 70.0, 59.0, 1, 58.0, 54.43, 'Placed'],\n",
       "       [0.0, 0.0, 1.0, 67.0, 63.0, 64.0, 0, 60.0, 61.87, 'Not Placed'],\n",
       "       [0.0, 1.0, 0.0, 64.0, 73.5, 73.0, 0, 52.0, 56.7, 'Placed'],\n",
       "       [0.0, 1.0, 0.0, 52.0, 64.0, 61.0, 0, 55.0, 62.93, 'Not Placed'],\n",
       "       [0.0, 1.0, 0.0, 58.0, 70.0, 61.0, 0, 54.0, 52.21, 'Not Placed'],\n",
       "       [0.0, 1.0, 0.0, 80.92, 78.5, 67.0, 0, 68.71, 60.99, 'Placed'],\n",
       "       [0.0, 0.0, 1.0, 63.0, 62.0, 65.0, 0, 87.5, 60.69, 'Not Placed'],\n",
       "       [0.0, 1.0, 0.0, 80.0, 80.0, 72.0, 1, 63.79, 66.04, 'Placed'],\n",
       "       [0.0, 1.0, 0.0, 63.0, 66.0, 64.0, 0, 68.0, 64.08, 'Not Placed'],\n",
       "       [0.0, 0.0, 1.0, 49.0, 59.0, 65.0, 1, 86.0, 62.48, 'Placed'],\n",
       "       [0.0, 0.0, 1.0, 83.0, 74.0, 66.0, 0, 68.92, 58.46, 'Placed'],\n",
       "       [0.0, 0.0, 1.0, 88.0, 72.0, 78.0, 0, 82.0, 71.43, 'Placed'],\n",
       "       [0.0, 0.0, 1.0, 85.0, 60.0, 73.43, 1, 60.0, 61.29, 'Placed'],\n",
       "       [0.0, 0.0, 1.0, 69.0, 62.0, 66.0, 0, 75.0, 67.99, 'Not Placed'],\n",
       "       [0.0, 1.0, 0.0, 52.58, 54.6, 50.2, 1, 76.0, 65.33, 'Not Placed'],\n",
       "       [0.0, 0.0, 1.0, 69.0, 63.0, 65.0, 1, 55.0, 58.23, 'Placed'],\n",
       "       [0.0, 0.0, 1.0, 89.4, 65.66, 71.25, 0, 72.0, 63.23, 'Placed'],\n",
       "       [0.0, 1.0, 0.0, 54.0, 77.6, 69.2, 0, 95.65, 66.94, 'Not Placed'],\n",
       "       [0.0, 1.0, 0.0, 63.0, 66.2, 65.6, 1, 60.0, 62.54, 'Placed'],\n",
       "       [0.0, 0.0, 1.0, 76.0, 64.0, 72.0, 0, 58.0, 66.53, 'Not Placed'],\n",
       "       [0.0, 0.0, 1.0, 71.0, 58.66, 58.0, 1, 56.0, 61.3, 'Placed'],\n",
       "       [0.0, 1.0, 0.0, 61.0, 82.0, 69.0, 0, 84.0, 58.31, 'Placed'],\n",
       "       [0.0, 0.0, 1.0, 60.4, 66.6, 65.0, 0, 71.0, 52.71, 'Placed'],\n",
       "       [0.0, 1.0, 0.0, 58.0, 61.0, 61.0, 0, 58.0, 53.94, 'Placed'],\n",
       "       [0.0, 0.0, 1.0, 67.0, 61.0, 72.0, 0, 72.0, 61.01, 'Placed'],\n",
       "       [0.0, 0.0, 1.0, 67.0, 71.0, 64.33, 1, 64.0, 61.26, 'Placed'],\n",
       "       [0.0, 0.0, 1.0, 80.4, 73.4, 77.72, 1, 81.2, 76.26, 'Placed'],\n",
       "       [0.0, 1.0, 0.0, 59.0, 62.0, 77.5, 0, 74.0, 67.0, 'Not Placed'],\n",
       "       [0.0, 0.0, 1.0, 72.0, 56.0, 69.0, 0, 55.6, 65.63, 'Placed'],\n",
       "       [0.0, 0.0, 1.0, 76.0, 80.0, 78.0, 1, 97.0, 70.48, 'Placed'],\n",
       "       [0.0, 1.0, 0.0, 69.0, 73.0, 65.0, 0, 70.0, 57.31, 'Placed'],\n",
       "       [0.0, 0.0, 1.0, 76.0, 70.0, 76.0, 1, 66.0, 64.44, 'Placed'],\n",
       "       [0.0, 1.0, 0.0, 65.0, 77.0, 69.0, 0, 60.0, 61.82, 'Placed'],\n",
       "       [0.0, 0.0, 1.0, 77.0, 75.0, 73.0, 0, 80.0, 67.05, 'Placed']],\n",
       "      dtype=object)"
      ]
     },
     "execution_count": 30,
     "metadata": {},
     "output_type": "execute_result"
    }
   ],
   "source": [
    "x_test"
   ]
  },
  {
   "cell_type": "code",
   "execution_count": null,
   "id": "d24b5cc8",
   "metadata": {},
   "outputs": [],
   "source": []
  }
 ],
 "metadata": {
  "kernelspec": {
   "display_name": "Python 3 (ipykernel)",
   "language": "python",
   "name": "python3"
  },
  "language_info": {
   "codemirror_mode": {
    "name": "ipython",
    "version": 3
   },
   "file_extension": ".py",
   "mimetype": "text/x-python",
   "name": "python",
   "nbconvert_exporter": "python",
   "pygments_lexer": "ipython3",
   "version": "3.9.7"
  }
 },
 "nbformat": 4,
 "nbformat_minor": 5
}
