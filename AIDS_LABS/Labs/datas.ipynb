{
 "cells": [
  {
   "cell_type": "code",
   "execution_count": 1,
   "metadata": {},
   "outputs": [],
   "source": [
    "from sklearn import datasets\n",
    "iris = datasets.load_iris()"
   ]
  },
  {
   "cell_type": "code",
   "execution_count": 2,
   "metadata": {},
   "outputs": [
    {
     "name": "stdout",
     "output_type": "stream",
     "text": [
      "['setosa' 'versicolor' 'virginica']\n",
      "['sepal length (cm)', 'sepal width (cm)', 'petal length (cm)', 'petal width (cm)']\n"
     ]
    }
   ],
   "source": [
    "print(iris.target_names)\n",
    "print(iris.feature_names)"
   ]
  },
  {
   "cell_type": "code",
   "execution_count": 3,
   "metadata": {},
   "outputs": [
    {
     "name": "stdout",
     "output_type": "stream",
     "text": [
      "[[5.1 3.5 1.4 0.2]\n",
      " [4.9 3.  1.4 0.2]\n",
      " [4.7 3.2 1.3 0.2]\n",
      " [4.6 3.1 1.5 0.2]\n",
      " [5.  3.6 1.4 0.2]]\n",
      "[0 0 0 0 0 0 0 0 0 0 0 0 0 0 0 0 0 0 0 0 0 0 0 0 0 0 0 0 0 0 0 0 0 0 0 0 0\n",
      " 0 0 0 0 0 0 0 0 0 0 0 0 0 1 1 1 1 1 1 1 1 1 1 1 1 1 1 1 1 1 1 1 1 1 1 1 1\n",
      " 1 1 1 1 1 1 1 1 1 1 1 1 1 1 1 1 1 1 1 1 1 1 1 1 1 1 2 2 2 2 2 2 2 2 2 2 2\n",
      " 2 2 2 2 2 2 2 2 2 2 2 2 2 2 2 2 2 2 2 2 2 2 2 2 2 2 2 2 2 2 2 2 2 2 2 2 2\n",
      " 2 2]\n"
     ]
    }
   ],
   "source": [
    "print(iris.data[0:5])\n",
    "print(iris.target)"
   ]
  },
  {
   "cell_type": "code",
   "execution_count": 4,
   "metadata": {},
   "outputs": [
    {
     "data": {
      "text/html": [
       "<div>\n",
       "<style scoped>\n",
       "    .dataframe tbody tr th:only-of-type {\n",
       "        vertical-align: middle;\n",
       "    }\n",
       "\n",
       "    .dataframe tbody tr th {\n",
       "        vertical-align: top;\n",
       "    }\n",
       "\n",
       "    .dataframe thead th {\n",
       "        text-align: right;\n",
       "    }\n",
       "</style>\n",
       "<table border=\"1\" class=\"dataframe\">\n",
       "  <thead>\n",
       "    <tr style=\"text-align: right;\">\n",
       "      <th></th>\n",
       "      <th>sepal length</th>\n",
       "      <th>sepal width</th>\n",
       "      <th>petal length</th>\n",
       "      <th>petal width</th>\n",
       "      <th>species</th>\n",
       "    </tr>\n",
       "  </thead>\n",
       "  <tbody>\n",
       "    <tr>\n",
       "      <th>0</th>\n",
       "      <td>5.1</td>\n",
       "      <td>3.5</td>\n",
       "      <td>1.4</td>\n",
       "      <td>0.2</td>\n",
       "      <td>0</td>\n",
       "    </tr>\n",
       "    <tr>\n",
       "      <th>1</th>\n",
       "      <td>4.9</td>\n",
       "      <td>3.0</td>\n",
       "      <td>1.4</td>\n",
       "      <td>0.2</td>\n",
       "      <td>0</td>\n",
       "    </tr>\n",
       "    <tr>\n",
       "      <th>2</th>\n",
       "      <td>4.7</td>\n",
       "      <td>3.2</td>\n",
       "      <td>1.3</td>\n",
       "      <td>0.2</td>\n",
       "      <td>0</td>\n",
       "    </tr>\n",
       "    <tr>\n",
       "      <th>3</th>\n",
       "      <td>4.6</td>\n",
       "      <td>3.1</td>\n",
       "      <td>1.5</td>\n",
       "      <td>0.2</td>\n",
       "      <td>0</td>\n",
       "    </tr>\n",
       "    <tr>\n",
       "      <th>4</th>\n",
       "      <td>5.0</td>\n",
       "      <td>3.6</td>\n",
       "      <td>1.4</td>\n",
       "      <td>0.2</td>\n",
       "      <td>0</td>\n",
       "    </tr>\n",
       "  </tbody>\n",
       "</table>\n",
       "</div>"
      ],
      "text/plain": [
       "   sepal length  sepal width  petal length  petal width  species\n",
       "0           5.1          3.5           1.4          0.2        0\n",
       "1           4.9          3.0           1.4          0.2        0\n",
       "2           4.7          3.2           1.3          0.2        0\n",
       "3           4.6          3.1           1.5          0.2        0\n",
       "4           5.0          3.6           1.4          0.2        0"
      ]
     },
     "execution_count": 4,
     "metadata": {},
     "output_type": "execute_result"
    }
   ],
   "source": [
    "import pandas as pd\n",
    "data=pd.DataFrame({\n",
    "    'sepal length':iris.data[:,0],\n",
    "    'sepal width':iris.data[:,1],\n",
    "    'petal length':iris.data[:,2],\n",
    "    'petal width':iris.data[:,3],\n",
    "    'species':iris.target\n",
    "})\n",
    "data.head()"
   ]
  },
  {
   "cell_type": "code",
   "execution_count": 5,
   "metadata": {},
   "outputs": [],
   "source": [
    "from sklearn.model_selection import train_test_split\n",
    "X=data[['sepal length', 'sepal width', 'petal length', 'petal width']]\n",
    "y=data['species']\n",
    "X_train, X_test, y_train, y_test = train_test_split(X, y, test_size=0.3)"
   ]
  },
  {
   "cell_type": "code",
   "execution_count": 6,
   "metadata": {},
   "outputs": [
    {
     "data": {
      "text/plain": [
       "(     sepal length  sepal width  petal length  petal width\n",
       " 29            4.7          3.2           1.6          0.2\n",
       " 82            5.8          2.7           3.9          1.2\n",
       " 34            4.9          3.1           1.5          0.2\n",
       " 99            5.7          2.8           4.1          1.3\n",
       " 10            5.4          3.7           1.5          0.2\n",
       " 39            5.1          3.4           1.5          0.2\n",
       " 55            5.7          2.8           4.5          1.3\n",
       " 37            4.9          3.6           1.4          0.1\n",
       " 74            6.4          2.9           4.3          1.3\n",
       " 14            5.8          4.0           1.2          0.2\n",
       " 110           6.5          3.2           5.1          2.0\n",
       " 141           6.9          3.1           5.1          2.3\n",
       " 58            6.6          2.9           4.6          1.3\n",
       " 93            5.0          2.3           3.3          1.0\n",
       " 106           4.9          2.5           4.5          1.7\n",
       " 38            4.4          3.0           1.3          0.2\n",
       " 132           6.4          2.8           5.6          2.2\n",
       " 70            5.9          3.2           4.8          1.8\n",
       " 118           7.7          2.6           6.9          2.3\n",
       " 18            5.7          3.8           1.7          0.3\n",
       " 23            5.1          3.3           1.7          0.5\n",
       " 122           7.7          2.8           6.7          2.0\n",
       " 16            5.4          3.9           1.3          0.4\n",
       " 102           7.1          3.0           5.9          2.1\n",
       " 137           6.4          3.1           5.5          1.8\n",
       " 52            6.9          3.1           4.9          1.5\n",
       " 51            6.4          3.2           4.5          1.5\n",
       " 83            6.0          2.7           5.1          1.6\n",
       " 36            5.5          3.5           1.3          0.2\n",
       " 136           6.3          3.4           5.6          2.4\n",
       " 73            6.1          2.8           4.7          1.2\n",
       " 22            4.6          3.6           1.0          0.2\n",
       " 81            5.5          2.4           3.7          1.0\n",
       " 26            5.0          3.4           1.6          0.4\n",
       " 148           6.2          3.4           5.4          2.3\n",
       " 49            5.0          3.3           1.4          0.2\n",
       " 56            6.3          3.3           4.7          1.6\n",
       " 44            5.1          3.8           1.9          0.4\n",
       " 109           7.2          3.6           6.1          2.5\n",
       " 71            6.1          2.8           4.0          1.3\n",
       " 41            4.5          2.3           1.3          0.3\n",
       " 130           7.4          2.8           6.1          1.9\n",
       " 95            5.7          3.0           4.2          1.2\n",
       " 129           7.2          3.0           5.8          1.6\n",
       " 42            4.4          3.2           1.3          0.2,\n",
       "     sepal length  sepal width  petal length  petal width\n",
       " 80           5.5          2.4           3.8          1.1\n",
       " 76           6.8          2.8           4.8          1.4\n",
       " 4            5.0          3.6           1.4          0.2\n",
       " 12           4.8          3.0           1.4          0.1\n",
       " 0            5.1          3.5           1.4          0.2\n",
       " ..           ...          ...           ...          ...\n",
       " 15           5.7          4.4           1.5          0.4\n",
       " 25           5.0          3.0           1.6          0.2\n",
       " 33           5.5          4.2           1.4          0.2\n",
       " 17           5.1          3.5           1.4          0.3\n",
       " 45           4.8          3.0           1.4          0.3\n",
       " \n",
       " [105 rows x 4 columns],\n",
       " 29     0\n",
       " 82     1\n",
       " 34     0\n",
       " 99     1\n",
       " 10     0\n",
       " 39     0\n",
       " 55     1\n",
       " 37     0\n",
       " 74     1\n",
       " 14     0\n",
       " 110    2\n",
       " 141    2\n",
       " 58     1\n",
       " 93     1\n",
       " 106    2\n",
       " 38     0\n",
       " 132    2\n",
       " 70     1\n",
       " 118    2\n",
       " 18     0\n",
       " 23     0\n",
       " 122    2\n",
       " 16     0\n",
       " 102    2\n",
       " 137    2\n",
       " 52     1\n",
       " 51     1\n",
       " 83     1\n",
       " 36     0\n",
       " 136    2\n",
       " 73     1\n",
       " 22     0\n",
       " 81     1\n",
       " 26     0\n",
       " 148    2\n",
       " 49     0\n",
       " 56     1\n",
       " 44     0\n",
       " 109    2\n",
       " 71     1\n",
       " 41     0\n",
       " 130    2\n",
       " 95     1\n",
       " 129    2\n",
       " 42     0\n",
       " Name: species, dtype: int32,\n",
       " 80    1\n",
       " 76    1\n",
       " 4     0\n",
       " 12    0\n",
       " 0     0\n",
       "      ..\n",
       " 15    0\n",
       " 25    0\n",
       " 33    0\n",
       " 17    0\n",
       " 45    0\n",
       " Name: species, Length: 105, dtype: int32)"
      ]
     },
     "execution_count": 6,
     "metadata": {},
     "output_type": "execute_result"
    }
   ],
   "source": [
    "X_test,X_train,y_test,y_train"
   ]
  },
  {
   "cell_type": "code",
   "execution_count": 9,
   "metadata": {},
   "outputs": [],
   "source": [
    "from sklearn.neighbors import KNeighborsClassifier\n",
    "clf=KNeighborsClassifier(n_neighbors=7)\n",
    "clf.fit(X_train,y_train)\n",
    "y_pred=clf.predict(X_test)"
   ]
  },
  {
   "cell_type": "code",
   "execution_count": 10,
   "metadata": {},
   "outputs": [
    {
     "data": {
      "text/plain": [
       "array([0, 1, 0, 1, 0, 0, 1, 0, 1, 0, 2, 2, 1, 1, 1, 0, 2, 2, 2, 0, 0, 2,\n",
       "       0, 2, 2, 1, 1, 2, 0, 2, 1, 0, 1, 0, 2, 0, 1, 0, 2, 1, 0, 2, 1, 2,\n",
       "       0])"
      ]
     },
     "execution_count": 10,
     "metadata": {},
     "output_type": "execute_result"
    }
   ],
   "source": [
    "y_pred"
   ]
  },
  {
   "cell_type": "code",
   "execution_count": 11,
   "metadata": {},
   "outputs": [
    {
     "name": "stdout",
     "output_type": "stream",
     "text": [
      "Accuracy: 0.9333333333333333\n"
     ]
    }
   ],
   "source": [
    "from sklearn import metrics\n",
    "print(\"Accuracy:\",metrics.accuracy_score(y_test, y_pred))"
   ]
  },
  {
   "cell_type": "code",
   "execution_count": 12,
   "metadata": {},
   "outputs": [
    {
     "name": "stderr",
     "output_type": "stream",
     "text": [
      "C:\\Users\\Hello\\AppData\\Local\\Programs\\Python\\Python310\\lib\\site-packages\\sklearn\\base.py:450: UserWarning: X does not have valid feature names, but KNeighborsClassifier was fitted with feature names\n",
      "  warnings.warn(\n"
     ]
    },
    {
     "data": {
      "text/plain": [
       "array([1])"
      ]
     },
     "execution_count": 12,
     "metadata": {},
     "output_type": "execute_result"
    }
   ],
   "source": [
    "clf.predict([[3, 5, 4, 2]])"
   ]
  }
 ],
 "metadata": {
  "interpreter": {
   "hash": "d14af6c305808bc4e1c61270fe37b8ef6b0abf40b268aa95c675837e8cd02c2e"
  },
  "kernelspec": {
   "display_name": "Python 3.10.1 64-bit",
   "language": "python",
   "name": "python3"
  },
  "language_info": {
   "codemirror_mode": {
    "name": "ipython",
    "version": 3
   },
   "file_extension": ".py",
   "mimetype": "text/x-python",
   "name": "python",
   "nbconvert_exporter": "python",
   "pygments_lexer": "ipython3",
   "version": "3.10.1"
  },
  "orig_nbformat": 4
 },
 "nbformat": 4,
 "nbformat_minor": 2
}
